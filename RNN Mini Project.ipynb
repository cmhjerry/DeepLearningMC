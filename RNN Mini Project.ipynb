{
 "cells": [
  {
   "cell_type": "markdown",
   "metadata": {},
   "source": [
    "# Import Packages"
   ]
  },
  {
   "cell_type": "code",
   "execution_count": 2,
   "metadata": {},
   "outputs": [
    {
     "name": "stderr",
     "output_type": "stream",
     "text": [
      "/Library/Frameworks/Python.framework/Versions/3.6/lib/python3.6/site-packages/h5py/__init__.py:36: FutureWarning: Conversion of the second argument of issubdtype from `float` to `np.floating` is deprecated. In future, it will be treated as `np.float64 == np.dtype(float).type`.\n",
      "  from ._conv import register_converters as _register_converters\n",
      "Using TensorFlow backend.\n"
     ]
    },
    {
     "data": {
      "text/plain": [
       "'2.1.6'"
      ]
     },
     "execution_count": 2,
     "metadata": {},
     "output_type": "execute_result"
    }
   ],
   "source": [
    "import keras\n",
    "keras.__version__"
   ]
  },
  {
   "cell_type": "code",
   "execution_count": 3,
   "metadata": {},
   "outputs": [],
   "source": [
    "from keras.layers import SimpleRNN\n",
    "from keras.models import Sequential\n",
    "from keras.layers import Embedding, SimpleRNN\n",
    "from keras.layers import Dense"
   ]
  },
  {
   "cell_type": "markdown",
   "metadata": {},
   "source": [
    "# Data Processing"
   ]
  },
  {
   "cell_type": "code",
   "execution_count": 4,
   "metadata": {},
   "outputs": [
    {
     "name": "stdout",
     "output_type": "stream",
     "text": [
      "Loading data...\n",
      "8982 train sequences\n",
      "2246 test sequences\n",
      "Pad sequences (samples x time)\n",
      "input_train shape: (8982, 500)\n",
      "input_test shape: (2246, 500)\n",
      "y_train shape: (8982,)\n",
      "y_test shape: (2246,)\n"
     ]
    }
   ],
   "source": [
    "from keras.datasets import reuters\n",
    "from keras.preprocessing import sequence\n",
    "\n",
    "max_features = 10000  # number of words to consider as features\n",
    "maxlen = 500  # cut texts after this number of words (among top max_features most common words)\n",
    "batch_size = 64\n",
    "\n",
    "print('Loading data...')\n",
    "(input_train, y_train), (input_test, y_test) = reuters.load_data(num_words=max_features)\n",
    "print(len(input_train), 'train sequences')\n",
    "print(len(input_test), 'test sequences')\n",
    "\n",
    "print('Pad sequences (samples x time)')\n",
    "input_train = sequence.pad_sequences(input_train, maxlen=maxlen)\n",
    "input_test = sequence.pad_sequences(input_test, maxlen=maxlen)\n",
    "print('input_train shape:', input_train.shape)\n",
    "print('input_test shape:', input_test.shape)\n",
    "print('y_train shape:', y_train.shape)\n",
    "print('y_test shape:', y_test.shape)"
   ]
  },
  {
   "cell_type": "code",
   "execution_count": 5,
   "metadata": {},
   "outputs": [],
   "source": [
    "from keras.utils import np_utils\n",
    "\n",
    "y_train = np_utils.to_categorical(y_train, 46)\n",
    "y_test = np_utils.to_categorical(y_test, 46)"
   ]
  },
  {
   "cell_type": "code",
   "execution_count": 6,
   "metadata": {},
   "outputs": [
    {
     "data": {
      "text/plain": [
       "(2246, 46)"
      ]
     },
     "execution_count": 6,
     "metadata": {},
     "output_type": "execute_result"
    }
   ],
   "source": [
    "y_test.shape"
   ]
  },
  {
   "cell_type": "markdown",
   "metadata": {},
   "source": [
    "# RNN Model Setup"
   ]
  },
  {
   "cell_type": "code",
   "execution_count": 65,
   "metadata": {},
   "outputs": [
    {
     "name": "stdout",
     "output_type": "stream",
     "text": [
      "Train on 6287 samples, validate on 2695 samples\n",
      "Epoch 1/10\n",
      "6287/6287 [==============================] - 87s 14ms/step - loss: 2.5751 - acc: 0.3382 - val_loss: 2.3383 - val_acc: 0.3733\n",
      "Epoch 2/10\n",
      "6287/6287 [==============================] - 90s 14ms/step - loss: 2.1961 - acc: 0.4403 - val_loss: 2.3234 - val_acc: 0.3955\n",
      "Epoch 3/10\n",
      "6287/6287 [==============================] - 94s 15ms/step - loss: 1.7347 - acc: 0.5585 - val_loss: 2.1847 - val_acc: 0.4212\n",
      "Epoch 4/10\n",
      "6287/6287 [==============================] - 77s 12ms/step - loss: 1.2952 - acc: 0.6750 - val_loss: 2.2665 - val_acc: 0.4378\n",
      "Epoch 5/10\n",
      "6287/6287 [==============================] - 80s 13ms/step - loss: 0.9324 - acc: 0.7765 - val_loss: 2.0913 - val_acc: 0.5058\n",
      "Epoch 6/10\n",
      "6287/6287 [==============================] - 78s 12ms/step - loss: 0.6502 - acc: 0.8588 - val_loss: 2.1891 - val_acc: 0.4835\n",
      "Epoch 7/10\n",
      "6287/6287 [==============================] - 83s 13ms/step - loss: 0.4659 - acc: 0.9041 - val_loss: 2.3032 - val_acc: 0.4905\n",
      "Epoch 8/10\n",
      "6287/6287 [==============================] - 102s 16ms/step - loss: 0.3393 - acc: 0.9348 - val_loss: 2.8367 - val_acc: 0.3878\n",
      "Epoch 9/10\n",
      "6287/6287 [==============================] - 84s 13ms/step - loss: 0.2555 - acc: 0.9504 - val_loss: 2.9113 - val_acc: 0.4045\n",
      "Epoch 10/10\n",
      "6287/6287 [==============================] - 83s 13ms/step - loss: 0.2070 - acc: 0.9558 - val_loss: 2.9196 - val_acc: 0.4096\n"
     ]
    }
   ],
   "source": [
    "from keras.models import Sequential\n",
    "from keras.layers import Embedding, SimpleRNN\n",
    "from keras.layers import Dense\n",
    "\n",
    "model = Sequential()\n",
    "model.add(Embedding(max_features, 64))\n",
    "model.add(SimpleRNN(64, return_sequences=True))\n",
    "model.add(SimpleRNN(64, return_sequences=True))\n",
    "model.add(SimpleRNN(64, return_sequences=True))\n",
    "model.add(SimpleRNN(64))\n",
    "model.add(Dense(46, activation='softmax'))\n",
    "\n",
    "model.compile(optimizer='rmsprop', loss='categorical_crossentropy', metrics=['acc'])\n",
    "history = model.fit(input_train, y_train,\n",
    "                    epochs=10,\n",
    "                    batch_size=128,\n",
    "                    validation_split=0.3)"
   ]
  },
  {
   "cell_type": "code",
   "execution_count": 69,
   "metadata": {},
   "outputs": [
    {
     "name": "stdout",
     "output_type": "stream",
     "text": [
      "_________________________________________________________________\n",
      "Layer (type)                 Output Shape              Param #   \n",
      "=================================================================\n",
      "embedding_18 (Embedding)     (None, None, 64)          640000    \n",
      "_________________________________________________________________\n",
      "simple_rnn_43 (SimpleRNN)    (None, None, 64)          8256      \n",
      "_________________________________________________________________\n",
      "simple_rnn_44 (SimpleRNN)    (None, None, 64)          8256      \n",
      "_________________________________________________________________\n",
      "simple_rnn_45 (SimpleRNN)    (None, None, 64)          8256      \n",
      "_________________________________________________________________\n",
      "simple_rnn_46 (SimpleRNN)    (None, 64)                8256      \n",
      "_________________________________________________________________\n",
      "dense_10 (Dense)             (None, 46)                2990      \n",
      "=================================================================\n",
      "Total params: 676,014\n",
      "Trainable params: 676,014\n",
      "Non-trainable params: 0\n",
      "_________________________________________________________________\n"
     ]
    }
   ],
   "source": [
    "model.summary()"
   ]
  },
  {
   "cell_type": "markdown",
   "metadata": {},
   "source": [
    "# Performance Plot"
   ]
  },
  {
   "cell_type": "code",
   "execution_count": 67,
   "metadata": {},
   "outputs": [
    {
     "data": {
      "image/png": "[encoded data removed]",
      "text/plain": [
       "<matplotlib.figure.Figure at 0x120009710>"
      ]
     },
     "metadata": {},
     "output_type": "display_data"
    },
    {
     "data": {
      "image/png": "[encoded data removed]",
      "text/plain": [
       "<matplotlib.figure.Figure at 0x12eaf64a8>"
      ]
     },
     "metadata": {},
     "output_type": "display_data"
    }
   ],
   "source": [
    "import matplotlib.pyplot as plt\n",
    "%matplotlib inline\n",
    "\n",
    "acc = history.history['acc']\n",
    "val_acc = history.history['val_acc']\n",
    "loss = history.history['loss']\n",
    "val_loss = history.history['val_loss']\n",
    "\n",
    "epochs = range(len(acc))\n",
    "\n",
    "plt.plot(epochs, acc, 'bo', label='Training acc')\n",
    "plt.plot(epochs, val_acc, 'b', label='Validation acc')\n",
    "plt.title('Training and validation accuracy')\n",
    "plt.legend()\n",
    "\n",
    "plt.figure()\n",
    "\n",
    "plt.plot(epochs, loss, 'bo', label='Training loss')\n",
    "plt.plot(epochs, val_loss, 'b', label='Validation loss')\n",
    "plt.title('Training and validation loss')\n",
    "plt.legend()\n",
    "\n",
    "plt.show()"
   ]
  },
  {
   "cell_type": "code",
   "execution_count": null,
   "metadata": {},
   "outputs": [],
   "source": []
  }
 ],
 "metadata": {
  "kernelspec": {
   "display_name": "Python 3",
   "language": "python",
   "name": "python3"
  },
  "language_info": {
   "codemirror_mode": {
    "name": "ipython",
    "version": 3
   },
   "file_extension": ".py",
   "mimetype": "text/x-python",
   "name": "python",
   "nbconvert_exporter": "python",
   "pygments_lexer": "ipython3",
   "version": "3.6.2"
  }
 },
 "nbformat": 4,
 "nbformat_minor": 2
}
