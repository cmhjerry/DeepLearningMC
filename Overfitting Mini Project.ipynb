{
 "cells": [
  {
   "cell_type": "markdown",
   "metadata": {},
   "source": [
    "# Data Processing"
   ]
  },
  {
   "cell_type": "code",
   "execution_count": 1,
   "metadata": {},
   "outputs": [
    {
     "name": "stderr",
     "output_type": "stream",
     "text": [
      "/Library/Frameworks/Python.framework/Versions/3.6/lib/python3.6/site-packages/h5py/__init__.py:36: FutureWarning: Conversion of the second argument of issubdtype from `float` to `np.floating` is deprecated. In future, it will be treated as `np.float64 == np.dtype(float).type`.\n",
      "  from ._conv import register_converters as _register_converters\n",
      "Using TensorFlow backend.\n"
     ]
    },
    {
     "data": {
      "text/plain": [
       "'2.1.6'"
      ]
     },
     "execution_count": 1,
     "metadata": {},
     "output_type": "execute_result"
    }
   ],
   "source": [
    "import keras\n",
    "keras.__version__"
   ]
  },
  {
   "cell_type": "code",
   "execution_count": 12,
   "metadata": {},
   "outputs": [
    {
     "name": "stdout",
     "output_type": "stream",
     "text": [
      "Loading data...\n",
      "8982 train sequences\n",
      "2246 test sequences\n",
      "Pad sequences (samples x time)\n",
      "input_train shape: (8982, 500)\n",
      "input_test shape: (2246, 500)\n",
      "y_train shape: (8982, 46)\n",
      "y_test shape: (2246, 46)\n"
     ]
    }
   ],
   "source": [
    "from keras.datasets import reuters\n",
    "from keras.preprocessing import sequence\n",
    "from keras.utils import np_utils\n",
    "\n",
    "max_features = 10000  # number of words to consider as features\n",
    "maxlen = 500  # cut texts after this number of words (among top max_features most common words)\n",
    "batch_size = 64\n",
    "\n",
    "print('Loading data...')\n",
    "(input_train, y_train), (input_test, y_test) = reuters.load_data(num_words=max_features)\n",
    "print(len(input_train), 'train sequences')\n",
    "print(len(input_test), 'test sequences')\n",
    "\n",
    "print('Pad sequences (samples x time)')\n",
    "input_train = sequence.pad_sequences(input_train, maxlen=maxlen)\n",
    "input_test = sequence.pad_sequences(input_test, maxlen=maxlen)\n",
    "\n",
    "y_train = np_utils.to_categorical(y_train, 46)\n",
    "y_test = np_utils.to_categorical(y_test, 46)\n",
    "\n",
    "print('input_train shape:', input_train.shape)\n",
    "print('input_test shape:', input_test.shape)\n",
    "print('y_train shape:', y_train.shape)\n",
    "print('y_test shape:', y_test.shape)"
   ]
  },
  {
   "cell_type": "markdown",
   "metadata": {},
   "source": [
    "# Reduce Network Size"
   ]
  },
  {
   "cell_type": "code",
   "execution_count": 17,
   "metadata": {},
   "outputs": [
    {
     "name": "stdout",
     "output_type": "stream",
     "text": [
      "_________________________________________________________________\n",
      "Layer (type)                 Output Shape              Param #   \n",
      "=================================================================\n",
      "embedding_4 (Embedding)      (None, None, 64)          640000    \n",
      "_________________________________________________________________\n",
      "simple_rnn_4 (SimpleRNN)     (None, 64)                8256      \n",
      "_________________________________________________________________\n",
      "dense_25 (Dense)             (None, 46)                2990      \n",
      "=================================================================\n",
      "Total params: 651,246\n",
      "Trainable params: 651,246\n",
      "Non-trainable params: 0\n",
      "_________________________________________________________________\n"
     ]
    }
   ],
   "source": [
    "from keras import models\n",
    "from keras.models import Sequential\n",
    "from keras import layers\n",
    "from keras.layers import Embedding, SimpleRNN\n",
    "from keras.layers import Dense\n",
    "\n",
    "\n",
    "original_model = Sequential()\n",
    "original_model.add(Embedding(10000, 64))\n",
    "original_model.add(SimpleRNN(64))\n",
    "original_model.add(Dense(46, activation='softmax'))\n",
    "\n",
    "original_model.compile(optimizer='rmsprop', loss='categorical_crossentropy', metrics=['acc'])\n",
    "\n",
    "original_model.summary()"
   ]
  },
  {
   "cell_type": "code",
   "execution_count": 28,
   "metadata": {},
   "outputs": [
    {
     "name": "stdout",
     "output_type": "stream",
     "text": [
      "_________________________________________________________________\n",
      "Layer (type)                 Output Shape              Param #   \n",
      "=================================================================\n",
      "embedding_6 (Embedding)      (None, None, 80)          800000    \n",
      "_________________________________________________________________\n",
      "simple_rnn_6 (SimpleRNN)     (None, 80)                12880     \n",
      "_________________________________________________________________\n",
      "dense_27 (Dense)             (None, 46)                3726      \n",
      "=================================================================\n",
      "Total params: 816,606\n",
      "Trainable params: 816,606\n",
      "Non-trainable params: 0\n",
      "_________________________________________________________________\n"
     ]
    }
   ],
   "source": [
    "bigger_model = models.Sequential()\n",
    "bigger_model.add(Embedding(10000, 80))\n",
    "bigger_model.add(SimpleRNN(80))\n",
    "bigger_model.add(Dense(46, activation='softmax'))\n",
    "\n",
    "bigger_model.compile(optimizer='rmsprop', loss='categorical_crossentropy', metrics=['acc'])\n",
    "bigger_model.summary()"
   ]
  },
  {
   "cell_type": "code",
   "execution_count": 49,
   "metadata": {},
   "outputs": [
    {
     "name": "stdout",
     "output_type": "stream",
     "text": [
      "_________________________________________________________________\n",
      "Layer (type)                 Output Shape              Param #   \n",
      "=================================================================\n",
      "embedding_11 (Embedding)     (None, None, 16)          160000    \n",
      "_________________________________________________________________\n",
      "simple_rnn_11 (SimpleRNN)    (None, 16)                528       \n",
      "_________________________________________________________________\n",
      "dense_31 (Dense)             (None, 46)                782       \n",
      "=================================================================\n",
      "Total params: 161,310\n",
      "Trainable params: 161,310\n",
      "Non-trainable params: 0\n",
      "_________________________________________________________________\n"
     ]
    }
   ],
   "source": [
    "smaller_model = models.Sequential()\n",
    "smaller_model.add(Embedding(10000, 16))\n",
    "smaller_model.add(SimpleRNN(16))\n",
    "smaller_model.add(Dense(46, activation='softmax'))\n",
    "\n",
    "smaller_model.compile(optimizer='rmsprop', loss='categorical_crossentropy', metrics=['acc'])\n",
    "smaller_model.summary()"
   ]
  },
  {
   "cell_type": "code",
   "execution_count": 46,
   "metadata": {},
   "outputs": [
    {
     "name": "stdout",
     "output_type": "stream",
     "text": [
      "Train on 8982 samples, validate on 2246 samples\n",
      "Epoch 1/25\n",
      "8982/8982 [==============================] - 30s 3ms/step - loss: 1.3025 - acc: 0.6756 - val_loss: 1.9337 - val_acc: 0.5151\n",
      "Epoch 2/25\n",
      "8982/8982 [==============================] - 35s 4ms/step - loss: 1.2032 - acc: 0.6990 - val_loss: 2.0121 - val_acc: 0.5045\n",
      "Epoch 3/25\n",
      "8982/8982 [==============================] - 34s 4ms/step - loss: 1.1061 - acc: 0.7210 - val_loss: 2.0516 - val_acc: 0.5107\n",
      "Epoch 4/25\n",
      "8982/8982 [==============================] - 33s 4ms/step - loss: 1.0189 - acc: 0.7459 - val_loss: 2.0241 - val_acc: 0.5294\n",
      "Epoch 5/25\n",
      "8982/8982 [==============================] - 32s 4ms/step - loss: 0.9330 - acc: 0.7659 - val_loss: 2.1408 - val_acc: 0.4969\n",
      "Epoch 6/25\n",
      "8982/8982 [==============================] - 36s 4ms/step - loss: 0.8487 - acc: 0.7958 - val_loss: 2.1262 - val_acc: 0.5285\n",
      "Epoch 7/25\n",
      "8982/8982 [==============================] - 30s 3ms/step - loss: 0.7778 - acc: 0.8096 - val_loss: 2.3600 - val_acc: 0.4813\n",
      "Epoch 8/25\n",
      "8982/8982 [==============================] - 34s 4ms/step - loss: 0.7076 - acc: 0.8299 - val_loss: 2.2195 - val_acc: 0.5102\n",
      "Epoch 9/25\n",
      "8982/8982 [==============================] - 33s 4ms/step - loss: 0.6490 - acc: 0.8430 - val_loss: 2.1515 - val_acc: 0.5285\n",
      "Epoch 10/25\n",
      "8982/8982 [==============================] - 30s 3ms/step - loss: 0.5817 - acc: 0.8626 - val_loss: 2.4484 - val_acc: 0.4768\n",
      "Epoch 11/25\n",
      "8982/8982 [==============================] - 30s 3ms/step - loss: 0.5359 - acc: 0.8737 - val_loss: 2.2909 - val_acc: 0.5049\n",
      "Epoch 12/25\n",
      "8982/8982 [==============================] - 31s 3ms/step - loss: 0.4828 - acc: 0.8884 - val_loss: 2.1969 - val_acc: 0.5352\n",
      "Epoch 13/25\n",
      "8982/8982 [==============================] - 34s 4ms/step - loss: 0.4371 - acc: 0.8995 - val_loss: 2.2902 - val_acc: 0.5365\n",
      "Epoch 14/25\n",
      "8982/8982 [==============================] - 31s 3ms/step - loss: 0.4003 - acc: 0.9103 - val_loss: 2.5394 - val_acc: 0.4853\n",
      "Epoch 15/25\n",
      "8982/8982 [==============================] - 32s 4ms/step - loss: 0.3761 - acc: 0.9129 - val_loss: 2.4688 - val_acc: 0.5085\n",
      "Epoch 16/25\n",
      "8982/8982 [==============================] - 32s 4ms/step - loss: 0.3420 - acc: 0.9186 - val_loss: 2.6050 - val_acc: 0.4862\n",
      "Epoch 17/25\n",
      "8982/8982 [==============================] - 33s 4ms/step - loss: 0.3072 - acc: 0.9281 - val_loss: 2.7701 - val_acc: 0.4533\n",
      "Epoch 18/25\n",
      "8982/8982 [==============================] - 34s 4ms/step - loss: 0.2866 - acc: 0.9322 - val_loss: 2.6309 - val_acc: 0.4991\n",
      "Epoch 19/25\n",
      "8982/8982 [==============================] - 32s 4ms/step - loss: 0.2651 - acc: 0.9390 - val_loss: 2.8733 - val_acc: 0.4724\n",
      "Epoch 20/25\n",
      "8982/8982 [==============================] - 34s 4ms/step - loss: 0.2441 - acc: 0.9401 - val_loss: 2.5695 - val_acc: 0.5200\n",
      "Epoch 21/25\n",
      "8982/8982 [==============================] - 30s 3ms/step - loss: 0.2290 - acc: 0.9424 - val_loss: 2.7134 - val_acc: 0.5000\n",
      "Epoch 22/25\n",
      "8982/8982 [==============================] - 33s 4ms/step - loss: 0.2130 - acc: 0.9460 - val_loss: 2.6913 - val_acc: 0.5027\n",
      "Epoch 23/25\n",
      "8982/8982 [==============================] - 33s 4ms/step - loss: 0.2000 - acc: 0.9477 - val_loss: 2.7559 - val_acc: 0.5009\n",
      "Epoch 24/25\n",
      "8982/8982 [==============================] - 35s 4ms/step - loss: 0.1848 - acc: 0.9505 - val_loss: 2.8937 - val_acc: 0.4862\n",
      "Epoch 25/25\n",
      "8982/8982 [==============================] - 34s 4ms/step - loss: 0.1793 - acc: 0.9486 - val_loss: 2.9231 - val_acc: 0.4893\n"
     ]
    }
   ],
   "source": [
    "original_hist = original_model.fit(input_train, y_train, epochs=25,\n",
    "                        batch_size=256,validation_data=(input_test, y_test))"
   ]
  },
  {
   "cell_type": "code",
   "execution_count": 47,
   "metadata": {},
   "outputs": [
    {
     "name": "stdout",
     "output_type": "stream",
     "text": [
      "Train on 8982 samples, validate on 2246 samples\n",
      "Epoch 1/25\n",
      "8982/8982 [==============================] - 14s 2ms/step - loss: 1.6708 - acc: 0.5514 - val_loss: 2.0083 - val_acc: 0.5254\n",
      "Epoch 2/25\n",
      "8982/8982 [==============================] - 13s 1ms/step - loss: 1.5984 - acc: 0.5583 - val_loss: 2.0131 - val_acc: 0.5254\n",
      "Epoch 3/25\n",
      "8982/8982 [==============================] - 13s 1ms/step - loss: 1.5286 - acc: 0.5724 - val_loss: 2.0136 - val_acc: 0.5267\n",
      "Epoch 4/25\n",
      "8982/8982 [==============================] - 12s 1ms/step - loss: 1.4657 - acc: 0.5864 - val_loss: 2.0221 - val_acc: 0.5325\n",
      "Epoch 5/25\n",
      "8982/8982 [==============================] - 12s 1ms/step - loss: 1.4031 - acc: 0.6070 - val_loss: 2.0614 - val_acc: 0.5236\n",
      "Epoch 6/25\n",
      "8982/8982 [==============================] - 11s 1ms/step - loss: 1.3478 - acc: 0.6289 - val_loss: 2.0816 - val_acc: 0.4955\n",
      "Epoch 7/25\n",
      "8982/8982 [==============================] - 13s 1ms/step - loss: 1.2903 - acc: 0.6546 - val_loss: 2.0620 - val_acc: 0.5138\n",
      "Epoch 8/25\n",
      "8982/8982 [==============================] - 12s 1ms/step - loss: 1.2364 - acc: 0.6788 - val_loss: 2.1039 - val_acc: 0.5120\n",
      "Epoch 9/25\n",
      "8982/8982 [==============================] - 13s 1ms/step - loss: 1.1971 - acc: 0.6944 - val_loss: 2.1281 - val_acc: 0.4884\n",
      "Epoch 10/25\n",
      "8982/8982 [==============================] - 12s 1ms/step - loss: 1.1409 - acc: 0.7148 - val_loss: 2.1214 - val_acc: 0.4960\n",
      "Epoch 11/25\n",
      "8982/8982 [==============================] - 12s 1ms/step - loss: 1.1084 - acc: 0.7278 - val_loss: 2.1680 - val_acc: 0.4871\n",
      "Epoch 12/25\n",
      "8982/8982 [==============================] - 10s 1ms/step - loss: 1.0536 - acc: 0.7437 - val_loss: 2.3966 - val_acc: 0.4679\n",
      "Epoch 13/25\n",
      "8982/8982 [==============================] - 11s 1ms/step - loss: 1.0613 - acc: 0.7429 - val_loss: 2.2363 - val_acc: 0.4720\n",
      "Epoch 14/25\n",
      "8982/8982 [==============================] - 12s 1ms/step - loss: 0.9895 - acc: 0.7615 - val_loss: 2.2542 - val_acc: 0.4800\n",
      "Epoch 15/25\n",
      "8982/8982 [==============================] - 12s 1ms/step - loss: 0.9500 - acc: 0.7705 - val_loss: 2.2728 - val_acc: 0.4742\n",
      "Epoch 16/25\n",
      "8982/8982 [==============================] - 12s 1ms/step - loss: 0.9202 - acc: 0.7789 - val_loss: 2.3190 - val_acc: 0.4635\n",
      "Epoch 17/25\n",
      "8982/8982 [==============================] - 12s 1ms/step - loss: 0.8870 - acc: 0.7846 - val_loss: 2.3442 - val_acc: 0.4724\n",
      "Epoch 18/25\n",
      "8982/8982 [==============================] - 12s 1ms/step - loss: 0.8564 - acc: 0.7915 - val_loss: 2.4210 - val_acc: 0.4590\n",
      "Epoch 19/25\n",
      "8982/8982 [==============================] - 14s 2ms/step - loss: 0.8356 - acc: 0.7940 - val_loss: 2.4023 - val_acc: 0.4608\n",
      "Epoch 20/25\n",
      "8982/8982 [==============================] - 14s 2ms/step - loss: 0.8087 - acc: 0.8032 - val_loss: 2.4717 - val_acc: 0.4492\n",
      "Epoch 21/25\n",
      "8982/8982 [==============================] - 15s 2ms/step - loss: 0.7730 - acc: 0.8081 - val_loss: 2.5208 - val_acc: 0.4524\n",
      "Epoch 22/25\n",
      "8982/8982 [==============================] - 14s 2ms/step - loss: 0.7493 - acc: 0.8153 - val_loss: 2.4857 - val_acc: 0.4635\n",
      "Epoch 23/25\n",
      "8982/8982 [==============================] - 13s 1ms/step - loss: 0.7477 - acc: 0.8124 - val_loss: 2.5212 - val_acc: 0.4537\n",
      "Epoch 24/25\n",
      "8982/8982 [==============================] - 13s 1ms/step - loss: 0.7017 - acc: 0.8234 - val_loss: 2.6476 - val_acc: 0.4328\n",
      "Epoch 25/25\n",
      "8982/8982 [==============================] - 12s 1ms/step - loss: 0.6821 - acc: 0.8298 - val_loss: 2.5991 - val_acc: 0.4528\n"
     ]
    }
   ],
   "source": [
    "smaller_hist = smaller_model.fit(input_train, y_train, epochs=25,\n",
    "                        batch_size=256,validation_data=(input_test, y_test))"
   ]
  },
  {
   "cell_type": "code",
   "execution_count": 50,
   "metadata": {},
   "outputs": [
    {
     "name": "stdout",
     "output_type": "stream",
     "text": [
      "Train on 8982 samples, validate on 2246 samples\n",
      "Epoch 1/25\n",
      "8982/8982 [==============================] - 48s 5ms/step - loss: 0.6028 - acc: 0.8756 - val_loss: 2.1223 - val_acc: 0.4969\n",
      "Epoch 2/25\n",
      "8982/8982 [==============================] - 44s 5ms/step - loss: 0.5188 - acc: 0.8969 - val_loss: 2.0865 - val_acc: 0.5169\n",
      "Epoch 3/25\n",
      "8982/8982 [==============================] - 47s 5ms/step - loss: 0.4290 - acc: 0.9230 - val_loss: 2.2024 - val_acc: 0.5258\n",
      "Epoch 4/25\n",
      "8982/8982 [==============================] - 41s 5ms/step - loss: 0.3648 - acc: 0.9318 - val_loss: 2.3395 - val_acc: 0.4751\n",
      "Epoch 5/25\n",
      "8982/8982 [==============================] - 44s 5ms/step - loss: 0.3140 - acc: 0.9413 - val_loss: 2.6884 - val_acc: 0.4506\n",
      "Epoch 6/25\n",
      "8982/8982 [==============================] - 42s 5ms/step - loss: 0.3129 - acc: 0.9320 - val_loss: 2.2049 - val_acc: 0.5232\n",
      "Epoch 7/25\n",
      "8982/8982 [==============================] - 41s 5ms/step - loss: 0.2404 - acc: 0.9506 - val_loss: 2.3554 - val_acc: 0.4804\n",
      "Epoch 8/25\n",
      "8982/8982 [==============================] - 39s 4ms/step - loss: 0.2180 - acc: 0.9516 - val_loss: 2.6152 - val_acc: 0.4359\n",
      "Epoch 9/25\n",
      "8982/8982 [==============================] - 41s 5ms/step - loss: 0.2182 - acc: 0.9489 - val_loss: 2.4188 - val_acc: 0.5107\n",
      "Epoch 10/25\n",
      "8982/8982 [==============================] - 41s 5ms/step - loss: 0.1853 - acc: 0.9526 - val_loss: 2.3711 - val_acc: 0.5076\n",
      "Epoch 11/25\n",
      "8982/8982 [==============================] - 41s 5ms/step - loss: 0.1622 - acc: 0.9540 - val_loss: 2.4255 - val_acc: 0.4786\n",
      "Epoch 12/25\n",
      "8982/8982 [==============================] - 46s 5ms/step - loss: 0.1633 - acc: 0.9510 - val_loss: 2.4753 - val_acc: 0.4884\n",
      "Epoch 13/25\n",
      "8982/8982 [==============================] - 49s 5ms/step - loss: 0.1427 - acc: 0.9535 - val_loss: 2.9271 - val_acc: 0.4305\n",
      "Epoch 14/25\n",
      "8982/8982 [==============================] - 51s 6ms/step - loss: 0.1791 - acc: 0.9442 - val_loss: 2.3927 - val_acc: 0.5485\n",
      "Epoch 15/25\n",
      "8982/8982 [==============================] - 46s 5ms/step - loss: 0.1292 - acc: 0.9555 - val_loss: 2.4592 - val_acc: 0.5151\n",
      "Epoch 16/25\n",
      "8982/8982 [==============================] - 46s 5ms/step - loss: 0.1260 - acc: 0.9546 - val_loss: 2.5127 - val_acc: 0.5102\n",
      "Epoch 17/25\n",
      "8982/8982 [==============================] - 38s 4ms/step - loss: 0.1223 - acc: 0.9552 - val_loss: 2.4975 - val_acc: 0.5009\n",
      "Epoch 18/25\n",
      "8982/8982 [==============================] - 40s 4ms/step - loss: 0.1176 - acc: 0.9540 - val_loss: 2.7600 - val_acc: 0.4711\n",
      "Epoch 19/25\n",
      "8982/8982 [==============================] - 46s 5ms/step - loss: 0.1195 - acc: 0.9528 - val_loss: 2.6091 - val_acc: 0.4853\n",
      "Epoch 20/25\n",
      "8982/8982 [==============================] - 36s 4ms/step - loss: 0.1131 - acc: 0.9559 - val_loss: 2.5476 - val_acc: 0.5125\n",
      "Epoch 21/25\n",
      "8982/8982 [==============================] - 42s 5ms/step - loss: 0.1064 - acc: 0.9576 - val_loss: 2.5152 - val_acc: 0.5232\n",
      "Epoch 22/25\n",
      "8982/8982 [==============================] - 43s 5ms/step - loss: 0.1090 - acc: 0.9552 - val_loss: 2.7131 - val_acc: 0.4604\n",
      "Epoch 23/25\n",
      "8982/8982 [==============================] - 42s 5ms/step - loss: 0.1055 - acc: 0.9546 - val_loss: 2.7148 - val_acc: 0.4893\n",
      "Epoch 24/25\n",
      "8982/8982 [==============================] - 47s 5ms/step - loss: 0.1066 - acc: 0.9542 - val_loss: 2.5844 - val_acc: 0.5085\n",
      "Epoch 25/25\n",
      "8982/8982 [==============================] - 47s 5ms/step - loss: 0.1022 - acc: 0.9538 - val_loss: 2.6155 - val_acc: 0.5009\n"
     ]
    }
   ],
   "source": [
    "bigger_hist = bigger_model.fit(input_train, y_train, epochs=25,\n",
    "                        batch_size=256,validation_data=(input_test, y_test))"
   ]
  },
  {
   "cell_type": "code",
   "execution_count": 53,
   "metadata": {},
   "outputs": [],
   "source": [
    "epochs = range(1, 26)\n",
    "ori_val_loss = original_hist.history['val_loss']\n",
    "smaller_model_val_loss = smaller_hist.history['val_loss']\n",
    "bigger_model_val_loss = bigger_hist.history['val_loss']"
   ]
  },
  {
   "cell_type": "code",
   "execution_count": 54,
   "metadata": {
    "scrolled": true
   },
   "outputs": [
    {
     "data": {
      "image/png": "[encoded data removed]",
      "text/plain": [
       "<matplotlib.figure.Figure at 0x1315b09b0>"
      ]
     },
     "metadata": {},
     "output_type": "display_data"
    }
   ],
   "source": [
    "import matplotlib.pyplot as plt\n",
    "\n",
    "# b+ is for \"blue cross\"\n",
    "plt.plot(epochs, ori_val_loss, 'b+', label='Original model')\n",
    "# \"bo\" is for \"blue dot\"\n",
    "plt.plot(epochs, smaller_model_val_loss, 'bo', label='Smaller model')\n",
    "plt.xlabel('Epochs')\n",
    "plt.ylabel('Validation loss')\n",
    "plt.legend()\n",
    "\n",
    "plt.show()\n",
    "\n",
    "\n"
   ]
  },
  {
   "cell_type": "code",
   "execution_count": 55,
   "metadata": {},
   "outputs": [
    {
     "data": {
      "image/png": "[encoded data removed]",
      "text/plain": [
       "<matplotlib.figure.Figure at 0x1302e9320>"
      ]
     },
     "metadata": {},
     "output_type": "display_data"
    }
   ],
   "source": [
    "# b+ is for \"blue cross\"\n",
    "plt.plot(epochs, ori_val_loss, 'b+', label='Original model')\n",
    "# \"bo\" is for \"blue dot\"\n",
    "plt.plot(epochs, bigger_model_val_loss, 'bo', label='Bigger model')\n",
    "plt.xlabel('Epochs')\n",
    "plt.ylabel('Validation loss')\n",
    "plt.legend()\n",
    "\n",
    "plt.show()\n"
   ]
  },
  {
   "cell_type": "markdown",
   "metadata": {},
   "source": [
    "# Adding Weight Regularization"
   ]
  },
  {
   "cell_type": "code",
   "execution_count": 56,
   "metadata": {},
   "outputs": [
    {
     "name": "stdout",
     "output_type": "stream",
     "text": [
      "_________________________________________________________________\n",
      "Layer (type)                 Output Shape              Param #   \n",
      "=================================================================\n",
      "embedding_12 (Embedding)     (None, None, 16)          160000    \n",
      "_________________________________________________________________\n",
      "simple_rnn_12 (SimpleRNN)    (None, 16)                528       \n",
      "_________________________________________________________________\n",
      "dense_32 (Dense)             (None, 46)                782       \n",
      "=================================================================\n",
      "Total params: 161,310\n",
      "Trainable params: 161,310\n",
      "Non-trainable params: 0\n",
      "_________________________________________________________________\n"
     ]
    }
   ],
   "source": [
    "from keras import regularizers\n",
    "\n",
    "l2_model = models.Sequential()\n",
    "l2_model.add(Embedding(10000, 16))\n",
    "l2_model.add(SimpleRNN(16,kernel_regularizer=regularizers.l2(0.001)))\n",
    "l2_model.add(Dense(46, activation='softmax'))\n",
    "\n",
    "l2_model.compile(optimizer='rmsprop', loss='categorical_crossentropy', metrics=['acc'])\n",
    "\n",
    "l2_model.summary()"
   ]
  },
  {
   "cell_type": "code",
   "execution_count": 58,
   "metadata": {},
   "outputs": [
    {
     "name": "stdout",
     "output_type": "stream",
     "text": [
      "Train on 8982 samples, validate on 2246 samples\n",
      "Epoch 1/25\n",
      "8982/8982 [==============================] - 13s 1ms/step - loss: 3.4154 - acc: 0.3034 - val_loss: 3.0095 - val_acc: 0.3620\n",
      "Epoch 2/25\n",
      "8982/8982 [==============================] - 12s 1ms/step - loss: 2.8017 - acc: 0.3517 - val_loss: 2.6258 - val_acc: 0.3620\n",
      "Epoch 3/25\n",
      "8982/8982 [==============================] - 11s 1ms/step - loss: 2.5535 - acc: 0.3517 - val_loss: 2.4888 - val_acc: 0.3620\n",
      "Epoch 4/25\n",
      "8982/8982 [==============================] - 12s 1ms/step - loss: 2.4540 - acc: 0.3517 - val_loss: 2.4388 - val_acc: 0.3620\n",
      "Epoch 5/25\n",
      "8982/8982 [==============================] - 12s 1ms/step - loss: 2.4221 - acc: 0.3517 - val_loss: 2.4262 - val_acc: 0.3620\n",
      "Epoch 6/25\n",
      "8982/8982 [==============================] - 10s 1ms/step - loss: 2.4133 - acc: 0.3517 - val_loss: 2.4221 - val_acc: 0.3620\n",
      "Epoch 7/25\n",
      "8982/8982 [==============================] - 9s 998us/step - loss: 2.4090 - acc: 0.3517 - val_loss: 2.4183 - val_acc: 0.3620\n",
      "Epoch 8/25\n",
      "8982/8982 [==============================] - 10s 1ms/step - loss: 2.3995 - acc: 0.3517 - val_loss: 2.4030 - val_acc: 0.3620\n",
      "Epoch 9/25\n",
      "8982/8982 [==============================] - 9s 1ms/step - loss: 2.3702 - acc: 0.3517 - val_loss: 2.3724 - val_acc: 0.3633\n",
      "Epoch 10/25\n",
      "8982/8982 [==============================] - 9s 1ms/step - loss: 2.3228 - acc: 0.3652 - val_loss: 2.3344 - val_acc: 0.3909\n",
      "Epoch 11/25\n",
      "8982/8982 [==============================] - 10s 1ms/step - loss: 2.2711 - acc: 0.4027 - val_loss: 2.3131 - val_acc: 0.4096\n",
      "Epoch 12/25\n",
      "8982/8982 [==============================] - 10s 1ms/step - loss: 2.2264 - acc: 0.4365 - val_loss: 2.2705 - val_acc: 0.4212\n",
      "Epoch 13/25\n",
      "8982/8982 [==============================] - 11s 1ms/step - loss: 2.1690 - acc: 0.4507 - val_loss: 2.2475 - val_acc: 0.4047\n",
      "Epoch 14/25\n",
      "8982/8982 [==============================] - 13s 1ms/step - loss: 2.1075 - acc: 0.4635 - val_loss: 2.2377 - val_acc: 0.4047\n",
      "Epoch 15/25\n",
      "8982/8982 [==============================] - 11s 1ms/step - loss: 2.0441 - acc: 0.4744 - val_loss: 2.1126 - val_acc: 0.4515\n",
      "Epoch 16/25\n",
      "8982/8982 [==============================] - 10s 1ms/step - loss: 1.9803 - acc: 0.4854 - val_loss: 2.1334 - val_acc: 0.4270\n",
      "Epoch 17/25\n",
      "8982/8982 [==============================] - 11s 1ms/step - loss: 1.9406 - acc: 0.4931 - val_loss: 2.0857 - val_acc: 0.4524\n",
      "Epoch 18/25\n",
      "8982/8982 [==============================] - 10s 1ms/step - loss: 1.9288 - acc: 0.4805 - val_loss: 2.0579 - val_acc: 0.4702\n",
      "Epoch 19/25\n",
      "8982/8982 [==============================] - 10s 1ms/step - loss: 1.8721 - acc: 0.4989 - val_loss: 2.0468 - val_acc: 0.4751\n",
      "Epoch 20/25\n",
      "8982/8982 [==============================] - 11s 1ms/step - loss: 1.8582 - acc: 0.4935 - val_loss: 2.0601 - val_acc: 0.4768\n",
      "Epoch 21/25\n",
      "8982/8982 [==============================] - 11s 1ms/step - loss: 1.8289 - acc: 0.5119 - val_loss: 2.0604 - val_acc: 0.4475\n",
      "Epoch 22/25\n",
      "8982/8982 [==============================] - 10s 1ms/step - loss: 1.8526 - acc: 0.5063 - val_loss: 2.0736 - val_acc: 0.4724\n",
      "Epoch 23/25\n",
      "8982/8982 [==============================] - 12s 1ms/step - loss: 1.7793 - acc: 0.5305 - val_loss: 2.0264 - val_acc: 0.4626\n",
      "Epoch 24/25\n",
      "8982/8982 [==============================] - 12s 1ms/step - loss: 1.7625 - acc: 0.5291 - val_loss: 2.0376 - val_acc: 0.4630\n",
      "Epoch 25/25\n",
      "8982/8982 [==============================] - 12s 1ms/step - loss: 1.7311 - acc: 0.5376 - val_loss: 2.0338 - val_acc: 0.4635\n"
     ]
    }
   ],
   "source": [
    "l2_model_hist = l2_model.fit(input_train, y_train, epochs=25,\n",
    "                        batch_size=256,validation_data=(input_test, y_test))"
   ]
  },
  {
   "cell_type": "code",
   "execution_count": 59,
   "metadata": {},
   "outputs": [
    {
     "data": {
      "image/png": "[encoded data removed]",
      "text/plain": [
       "<matplotlib.figure.Figure at 0x1306f00f0>"
      ]
     },
     "metadata": {},
     "output_type": "display_data"
    }
   ],
   "source": [
    "l2_model_val_loss = l2_model_hist.history['val_loss']\n",
    "\n",
    "plt.plot(epochs, ori_val_loss, 'b+', label='Original model')\n",
    "plt.plot(epochs, l2_model_val_loss, 'bo', label='L2-regularized model')\n",
    "plt.xlabel('Epochs')\n",
    "plt.ylabel('Validation loss')\n",
    "plt.legend()\n",
    "\n",
    "plt.show()"
   ]
  },
  {
   "cell_type": "markdown",
   "metadata": {},
   "source": [
    "# Adding Dropout"
   ]
  },
  {
   "cell_type": "code",
   "execution_count": 63,
   "metadata": {},
   "outputs": [
    {
     "name": "stdout",
     "output_type": "stream",
     "text": [
      "_________________________________________________________________\n",
      "Layer (type)                 Output Shape              Param #   \n",
      "=================================================================\n",
      "embedding_14 (Embedding)     (None, None, 16)          160000    \n",
      "_________________________________________________________________\n",
      "dropout_7 (Dropout)          (None, None, 16)          0         \n",
      "_________________________________________________________________\n",
      "simple_rnn_14 (SimpleRNN)    (None, 16)                528       \n",
      "_________________________________________________________________\n",
      "dropout_8 (Dropout)          (None, 16)                0         \n",
      "_________________________________________________________________\n",
      "dense_34 (Dense)             (None, 46)                782       \n",
      "=================================================================\n",
      "Total params: 161,310\n",
      "Trainable params: 161,310\n",
      "Non-trainable params: 0\n",
      "_________________________________________________________________\n"
     ]
    }
   ],
   "source": [
    "dpt_model = models.Sequential()\n",
    "dpt_model.add(Embedding(10000, 16))\n",
    "dpt_model.add(layers.Dropout(0.5))\n",
    "dpt_model.add(SimpleRNN(16,kernel_regularizer=regularizers.l2(0.001)))\n",
    "dpt_model.add(layers.Dropout(0.5))\n",
    "dpt_model.add(Dense(46, activation='softmax'))\n",
    "\n",
    "dpt_model.compile(optimizer='rmsprop', loss='categorical_crossentropy', metrics=['acc'])\n",
    "\n",
    "dpt_model.summary()"
   ]
  },
  {
   "cell_type": "code",
   "execution_count": 64,
   "metadata": {},
   "outputs": [
    {
     "name": "stdout",
     "output_type": "stream",
     "text": [
      "Train on 8982 samples, validate on 2246 samples\n",
      "Epoch 1/25\n",
      "8982/8982 [==============================] - 14s 2ms/step - loss: 3.4766 - acc: 0.1278 - val_loss: 3.0724 - val_acc: 0.2199\n",
      "Epoch 2/25\n",
      "8982/8982 [==============================] - 12s 1ms/step - loss: 2.9704 - acc: 0.2347 - val_loss: 2.6427 - val_acc: 0.3593\n",
      "Epoch 3/25\n",
      "8982/8982 [==============================] - 13s 1ms/step - loss: 2.7268 - acc: 0.2896 - val_loss: 2.4896 - val_acc: 0.3620\n",
      "Epoch 4/25\n",
      "8982/8982 [==============================] - 12s 1ms/step - loss: 2.6447 - acc: 0.3013 - val_loss: 2.4472 - val_acc: 0.3620\n",
      "Epoch 5/25\n",
      "8982/8982 [==============================] - 13s 1ms/step - loss: 2.5965 - acc: 0.3196 - val_loss: 2.4330 - val_acc: 0.3620\n",
      "Epoch 6/25\n",
      "8982/8982 [==============================] - 13s 1ms/step - loss: 2.5592 - acc: 0.3346 - val_loss: 2.4004 - val_acc: 0.3620\n",
      "Epoch 7/25\n",
      "8982/8982 [==============================] - 11s 1ms/step - loss: 2.4912 - acc: 0.3631 - val_loss: 2.3600 - val_acc: 0.3785\n",
      "Epoch 8/25\n",
      "8982/8982 [==============================] - 14s 2ms/step - loss: 2.4461 - acc: 0.3784 - val_loss: 2.3303 - val_acc: 0.3789\n",
      "Epoch 9/25\n",
      "8982/8982 [==============================] - 15s 2ms/step - loss: 2.4165 - acc: 0.3861 - val_loss: 2.3060 - val_acc: 0.3874\n",
      "Epoch 10/25\n",
      "8982/8982 [==============================] - 16s 2ms/step - loss: 2.3820 - acc: 0.3969 - val_loss: 2.2866 - val_acc: 0.3909\n",
      "Epoch 11/25\n",
      "8982/8982 [==============================] - 13s 1ms/step - loss: 2.3462 - acc: 0.4068 - val_loss: 2.2638 - val_acc: 0.3963\n",
      "Epoch 12/25\n",
      "8982/8982 [==============================] - 12s 1ms/step - loss: 2.3010 - acc: 0.4133 - val_loss: 2.2368 - val_acc: 0.4034\n",
      "Epoch 13/25\n",
      "8982/8982 [==============================] - 10s 1ms/step - loss: 2.2640 - acc: 0.4173 - val_loss: 2.1989 - val_acc: 0.4052\n",
      "Epoch 14/25\n",
      "8982/8982 [==============================] - 10s 1ms/step - loss: 2.2204 - acc: 0.4222 - val_loss: 2.2273 - val_acc: 0.4029\n",
      "Epoch 15/25\n",
      "8982/8982 [==============================] - 10s 1ms/step - loss: 2.1694 - acc: 0.4237 - val_loss: 2.1255 - val_acc: 0.4020\n",
      "Epoch 16/25\n",
      "8982/8982 [==============================] - 14s 2ms/step - loss: 2.1249 - acc: 0.4272 - val_loss: 2.1988 - val_acc: 0.3887\n",
      "Epoch 17/25\n",
      "8982/8982 [==============================] - 11s 1ms/step - loss: 2.0828 - acc: 0.4315 - val_loss: 2.1622 - val_acc: 0.4038\n",
      "Epoch 18/25\n",
      "8982/8982 [==============================] - 11s 1ms/step - loss: 2.0518 - acc: 0.4403 - val_loss: 2.0599 - val_acc: 0.4141\n",
      "Epoch 19/25\n",
      "8982/8982 [==============================] - 12s 1ms/step - loss: 2.0095 - acc: 0.4473 - val_loss: 2.1344 - val_acc: 0.4083\n",
      "Epoch 20/25\n",
      "8982/8982 [==============================] - 11s 1ms/step - loss: 1.9776 - acc: 0.4510 - val_loss: 2.0305 - val_acc: 0.4265\n",
      "Epoch 21/25\n",
      "8982/8982 [==============================] - 10s 1ms/step - loss: 1.9443 - acc: 0.4567 - val_loss: 1.9619 - val_acc: 0.4194\n",
      "Epoch 22/25\n",
      "8982/8982 [==============================] - 10s 1ms/step - loss: 1.9148 - acc: 0.4630 - val_loss: 2.0206 - val_acc: 0.4181\n",
      "Epoch 23/25\n",
      "8982/8982 [==============================] - 11s 1ms/step - loss: 1.8832 - acc: 0.4780 - val_loss: 1.9697 - val_acc: 0.4230\n",
      "Epoch 24/25\n",
      "8982/8982 [==============================] - 10s 1ms/step - loss: 1.8594 - acc: 0.4744 - val_loss: 2.2631 - val_acc: 0.4127\n",
      "Epoch 25/25\n",
      "8982/8982 [==============================] - 11s 1ms/step - loss: 1.8459 - acc: 0.4775 - val_loss: 2.3816 - val_acc: 0.3651\n"
     ]
    }
   ],
   "source": [
    "dpt_model_hist = dpt_model.fit(input_train, y_train,\n",
    "                               epochs=25,\n",
    "                               batch_size=256,\n",
    "                               validation_data=(input_test, y_test))"
   ]
  },
  {
   "cell_type": "code",
   "execution_count": 65,
   "metadata": {},
   "outputs": [
    {
     "data": {
      "image/png": "[encoded data removed]",
      "text/plain": [
       "<matplotlib.figure.Figure at 0x131d77940>"
      ]
     },
     "metadata": {},
     "output_type": "display_data"
    }
   ],
   "source": [
    "dpt_model_val_loss = dpt_model_hist.history['val_loss']\n",
    "\n",
    "plt.plot(epochs, ori_val_loss, 'b+', label='Original model')\n",
    "plt.plot(epochs, dpt_model_val_loss, 'bo', label='Dropout-regularized model')\n",
    "plt.xlabel('Epochs')\n",
    "plt.ylabel('Validation loss')\n",
    "plt.legend()\n",
    "\n",
    "plt.show()"
   ]
  },
  {
   "cell_type": "code",
   "execution_count": null,
   "metadata": {},
   "outputs": [],
   "source": []
  }
 ],
 "metadata": {
  "kernelspec": {
   "display_name": "Python 3",
   "language": "python",
   "name": "python3"
  },
  "language_info": {
   "codemirror_mode": {
    "name": "ipython",
    "version": 3
   },
   "file_extension": ".py",
   "mimetype": "text/x-python",
   "name": "python",
   "nbconvert_exporter": "python",
   "pygments_lexer": "ipython3",
   "version": "3.6.2"
  }
 },
 "nbformat": 4,
 "nbformat_minor": 2
}
